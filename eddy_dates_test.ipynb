{
 "cells": [
  {
   "cell_type": "markdown",
   "metadata": {},
   "source": [
    "# Test of running the code for several dates\n",
    "\n",
    "*JASaa*\n",
    "\n",
    "*PIE017 ISAE-SUPAERO*"
   ]
  },
  {
   "cell_type": "markdown",
   "metadata": {},
   "source": [
    "## Load data and import functions"
   ]
  },
  {
   "cell_type": "code",
   "execution_count": 1,
   "metadata": {},
   "outputs": [],
   "source": [
    "from eddies import load_netcdf4,eddy_detection,print_eddies,plot_eddies\n",
    "\n",
    "#name of the netCDF data file\n",
    "filename = 'Lebreton_2015.nc'\n",
    "\n",
    "# load data\n",
    "(f,lon,lat,depth,uvel,vvel,t) =  load_netcdf4(filename)\n",
    "\n",
    "# Confidence level, usually 90%\n",
    "R2_criterion = 0.9\n",
    "# OW value at which to begin the evaluation of R2\n",
    "OW_start = -1.0\n",
    "# Number of local minima to evaluate using R2 method.\n",
    "# Set low (like 20) to see a few R2 eddies quickly.\n",
    "# Set high (like 1e5) to find all eddies in domain.\n",
    "max_evaluation_points = 2000 #set to 2000 to capture avery minima, there should be around 1800\n",
    "# Minimum number of cells required to be identified as an eddie.\n",
    "min_eddie_cells = 3 # set to 3 to be coherent with the use of the R2 method, 3 points seems like a reasonable minimun for a correlation \n",
    "# z-level to plot.  Usually set to 0 for the surface.\n",
    "k_plot = 0"
   ]
  },
  {
   "cell_type": "markdown",
   "metadata": {},
   "source": [
    "## Run code for several days\n",
    "Run this cell to generate data for every day\n",
    "- **eddy_data** is a list of len(t) (or 92 elements for the Lebreton2015 data) tuples \n",
    "    *(lon,lat,uvel,vvel,vorticity,OW,OW_eddies,eddie_census,nEddies,circulation_mask)* \n",
    "- *lon,lat,uvel,vvel* are not in the same format as the original netcdf data, they are transposed and only for one day\n",
    "- *circulation_mask* has the circulation for each cell such that circulation_mask = circ(lon,lat). The circulation is constant in an eddy and 0 outside of any eddy\n",
    "    - circ>0 : cyclonic eddy\n",
    "    - circ<0 : anti-cyclonic eddy\n",
    "    - circ=0 :  no eddy\n",
    "    \n",
    "To know more about each output, refer to the comments at the top of **eddies.py**"
   ]
  },
  {
   "cell_type": "code",
   "execution_count": 2,
   "metadata": {},
   "outputs": [],
   "source": [
    "%%capture\n",
    "\n",
    "eddy_data = []\n",
    "for day in range(len(t)):\n",
    "    eddy_data.append(eddy_detection(lon,lat,depth,uvel,vvel,day,R2_criterion,OW_start,max_evaluation_points,min_eddie_cells)) \n",
    "    #list: lon,lat,uvel,vvel,vorticity,OW,OW_eddies,eddie_census,nEddies,circulation_mask"
   ]
  },
  {
   "cell_type": "markdown",
   "metadata": {},
   "source": [
    "### Example : to acces the circulation mask for each day and store it in a list"
   ]
  },
  {
   "cell_type": "code",
   "execution_count": 3,
   "metadata": {},
   "outputs": [],
   "source": [
    "import numpy as np\n",
    "\n",
    "nEd = np.zeros(len(t),dtype=int)\n",
    "n_cyclonic = np.zeros(len(t),dtype=int)\n",
    "eddy_census_list = []\n",
    "mask_circulation_list = []\n",
    "for day in range(len(t)):\n",
    "    nEd[day] = eddy_data[day][8] #count the number of eddies for each day with circ>0 for each day\n",
    "    eddy_census_list.append(eddy_data[day][7]) #store all eddy_census in a list\n",
    "    n_cyclonic[day] = sum(circ > 0. for circ in eddy_census_list[day][1]) #count the number of eddies with circ>0 for each day\n",
    "    mask_circulation_list.append(eddy_data[day][9]) #list of circulation masks"
   ]
  },
  {
   "cell_type": "code",
   "execution_count": 25,
   "metadata": {},
   "outputs": [
    {
     "name": "stdout",
     "output_type": "stream",
     "text": [
      "\n",
      "Eddie census data\n",
      "\n",
      "         minOW  circ(m^2/s)      lon(º)     lat(º)  cells  diameter(km)\n",
      "1    -1.440708 -4534.861787 -136.583328  39.250000  247.0    145.498521\n",
      "2    -2.891690  3650.176960 -128.583328  40.416668   60.0     71.299247\n",
      "3    -1.579805  3239.589177 -137.250000  41.750000   44.0     60.692259\n",
      "4    -1.054645  2059.591098 -156.333328  36.916668   48.0     65.564131\n",
      "5    -1.156096 -2631.568082 -136.416672  28.000000   57.0     74.928708\n",
      "6    -1.394046  2828.654832 -142.416672  26.250000   33.0     57.811793\n",
      "7    -3.385552  3899.280051 -136.333328  41.333332  135.0    105.631622\n",
      "8    -1.173219  2056.299107 -137.083328  33.666668    4.0     21.346444\n",
      "9    -4.209669  7194.929336 -125.416664  41.416668  173.0    119.481611\n",
      "10   -2.571041 -4807.849527 -125.250000  30.000000  111.0    103.295787\n",
      "11   -1.868243  2915.936895 -135.416672  27.250000   29.0     54.045301\n",
      "12   -1.679409  2797.712701 -135.333328  29.833334   46.0     66.780369\n",
      "13   -2.499656 -5381.314290 -127.833336  40.416668  197.0    128.556548\n",
      "14   -1.412851 -2976.833310 -129.583328  38.583332  170.0    121.219471\n",
      "15   -2.172205  3416.708612 -147.000000  35.000000   51.0     68.528660\n",
      "16   -1.865404 -2985.022657 -135.666672  26.250000   42.0     65.060181\n",
      "17   -1.610381 -2749.686694 -136.750000  30.000000   72.0     83.137749\n",
      "18   -1.258032 -2484.006045 -145.000000  33.666668  121.0    105.725557\n",
      "19   -2.701631 -4049.008119 -141.083328  33.666668  231.0    144.593250\n",
      "20   -3.118123 -9145.499796 -144.583328  25.416666   96.0     98.030266\n",
      "21   -1.074507 -2274.090606 -133.833328  25.250000   58.0     76.415699\n",
      "22   -1.770535  2847.129056 -146.250000  26.083334   41.0     64.237830\n",
      "23   -6.836130 -5293.371555 -138.416672  34.583332   46.0     65.044812\n",
      "24   -1.656852  3064.247367 -141.250000  26.583334   58.0     75.969165\n",
      "25   -1.509875  4286.434509 -133.083328  38.166668  245.0    146.055952\n",
      "26   -3.270817  5225.656324 -153.750000  27.166666   38.0     61.745415\n",
      "27   -2.243515  3461.013380 -128.916672  29.916666  106.0    100.712253\n",
      "28   -2.088607 -2910.727843 -147.666672  25.000000  122.0    110.302235\n",
      "29   -1.806517  2913.865380 -125.583336  31.333334   56.0     72.994265\n",
      "30   -1.323126  2581.936920 -141.500000  38.500000   41.0     59.769653\n",
      "..         ...          ...         ...        ...    ...           ...\n",
      "159  -1.857715  2988.003546 -151.166672  36.416668   23.0     45.965496\n",
      "160  -1.201549  2704.315175 -143.833328  39.250000   54.0     68.172418\n",
      "161  -1.806798  2432.589608 -147.916672  41.833332   53.0     66.497828\n",
      "162  -5.463459 -5451.352656 -140.583328  32.000000   38.0     60.140376\n",
      "163  -1.027815  2836.961196 -147.583328  31.416666   43.0     64.152974\n",
      "164  -2.551874 -5064.008003 -153.166672  26.083334   23.0     48.583232\n",
      "165  -2.436840 -3216.395221 -145.916672  37.166668   36.0     56.907683\n",
      "166  -1.397816 -2893.355407 -153.583328  39.000000   45.0     62.610406\n",
      "167  -1.280658  3946.653192 -151.583328  28.083334   40.0     63.010124\n",
      "168  -1.160165  2500.265176 -132.000000  40.083332  115.0     98.455061\n",
      "169  -1.021794  2158.635996 -138.000000  27.166666   26.0     51.281332\n",
      "170  -2.537263  4075.995030 -145.500000  25.166666  125.0    111.705428\n",
      "171  -1.462398 -3251.400938 -136.416672  29.000000   12.0     35.295148\n",
      "172  -1.359401 -2253.299284 -146.583328  39.750000   58.0     70.396100\n",
      "173  -3.187224  3853.296065 -144.916672  40.000000   34.0     54.181695\n",
      "174  -1.146246  2440.206460 -142.583328  27.333334   60.0     76.947277\n",
      "175  -1.288648 -2682.730171 -140.666672  25.166666   41.0     64.548010\n",
      "176  -1.190512  2718.194719 -142.166672  32.166668   44.0     64.705208\n",
      "177  -2.562558 -3624.419692 -151.416672  33.250000   24.0     47.825281\n",
      "178  -1.190042 -2421.535393 -140.250000  34.500000   29.0     52.075149\n",
      "179  -2.230954 -3070.051859 -132.166672  34.750000   35.0     56.871570\n",
      "180  -1.051628 -2021.177953 -132.333328  39.500000   31.0     52.039472\n",
      "181  -1.342203 -2665.168069 -150.083328  28.500000   37.0     60.500928\n",
      "182 -16.945777  8375.779542 -126.083336  40.166668   36.0     55.629799\n",
      "183  -1.205848 -3167.520966 -127.916664  25.833334   60.0     77.639248\n",
      "184  -2.170239 -4316.473051 -150.833328  28.083334   54.0     72.924513\n",
      "185  -1.158080  2322.467216 -127.666664  26.416666   51.0     71.346525\n",
      "186  -1.004391  2018.607408 -154.833328  31.166666   48.0     67.810163\n",
      "187  -1.062064  2410.227418 -151.000000  27.250000   51.0     71.242399\n",
      "188 -18.170913 -9096.614755 -125.666664  40.083332   43.0     60.764707\n",
      "\n",
      "[188 rows x 6 columns]\n"
     ]
    }
   ],
   "source": [
    "day0 = 1\n",
    "print_eddies(eddy_census_list[day0],nEd[day0])"
   ]
  },
  {
   "cell_type": "markdown",
   "metadata": {},
   "source": [
    "## Example of some interesting post-processing\n",
    "Similar plot to the Petersen2013 paper"
   ]
  },
  {
   "cell_type": "code",
   "execution_count": 5,
   "metadata": {},
   "outputs": [
    {
     "data": {
      "image/png": "[encoded data removed]",
      "text/plain": [
       "<Figure size 432x288 with 1 Axes>"
      ]
     },
     "metadata": {
      "needs_background": "light"
     },
     "output_type": "display_data"
    }
   ],
   "source": [
    "#number of eddies vs day\n",
    "import matplotlib.pyplot as plt\n",
    "import numpy as np\n",
    "\n",
    "plt.bar(np.arange(len(t)),nEd)\n",
    "plt.ylabel('Total number of eddies')\n",
    "plt.xlabel('Day')\n",
    "plt.show()"
   ]
  },
  {
   "cell_type": "code",
   "execution_count": 6,
   "metadata": {},
   "outputs": [
    {
     "data": {
      "image/png": "[encoded data removed]",
      "text/plain": [
       "<Figure size 432x288 with 1 Axes>"
      ]
     },
     "metadata": {
      "needs_background": "light"
     },
     "output_type": "display_data"
    }
   ],
   "source": [
    "#number of cyclonic eddies vs day\n",
    "import matplotlib.pyplot as plt\n",
    "import numpy as np\n",
    "\n",
    "plt.bar(np.arange(len(t)),n_cyclonic)\n",
    "plt.ylabel('Number of cyclonic eddies')\n",
    "plt.xlabel('Day')\n",
    "plt.show()"
   ]
  },
  {
   "cell_type": "code",
   "execution_count": 7,
   "metadata": {},
   "outputs": [
    {
     "data": {
      "image/png": "[encoded data removed]",
      "text/plain": [
       "<Figure size 432x288 with 1 Axes>"
      ]
     },
     "metadata": {
      "needs_background": "light"
     },
     "output_type": "display_data"
    }
   ],
   "source": [
    "#plot of circulation vs diameter for a certain day\n",
    "import matplotlib.pyplot as plt\n",
    "\n",
    "day0 = 0 \n",
    "\n",
    "plt.plot(eddy_census_list[day0][5,:nEd[day0]],eddy_census_list[day0][1,:nEd[day0]],'.')\n",
    "plt.xlabel('Diameter (km)')\n",
    "plt.ylabel('Circulation (m^2/s)')\n",
    "plt.show()"
   ]
  },
  {
   "cell_type": "markdown",
   "metadata": {},
   "source": [
    "### We put map_circulation in the same format as the original uvel, vvel, etc; that we took from the netcdf data."
   ]
  },
  {
   "cell_type": "code",
   "execution_count": 8,
   "metadata": {},
   "outputs": [
    {
     "data": {
      "text/plain": [
       "(92, 385, 205, 1)"
      ]
     },
     "execution_count": 8,
     "metadata": {},
     "output_type": "execute_result"
    }
   ],
   "source": [
    "# We turn the list into an ndarray like uvel, \n",
    "map_circulation = np.asarray(mask_circulation_list)\n",
    "map_circulation.shape"
   ]
  },
  {
   "cell_type": "code",
   "execution_count": 9,
   "metadata": {},
   "outputs": [
    {
     "data": {
      "text/plain": [
       "(92, 1, 205, 385)"
      ]
     },
     "execution_count": 9,
     "metadata": {},
     "output_type": "execute_result"
    }
   ],
   "source": [
    "# The shape that we need\n",
    "uvel.shape"
   ]
  },
  {
   "cell_type": "code",
   "execution_count": 10,
   "metadata": {},
   "outputs": [
    {
     "data": {
      "text/plain": [
       "(92, 1, 205, 385)"
      ]
     },
     "execution_count": 10,
     "metadata": {},
     "output_type": "execute_result"
    }
   ],
   "source": [
    "# Transpose to the new shape\n",
    "map_circulation_final = map_circulation.transpose(0,3,2,1)\n",
    "map_circulation_final.shape"
   ]
  },
  {
   "cell_type": "markdown",
   "metadata": {},
   "source": [
    "## Save the data into *.npy* files"
   ]
  },
  {
   "cell_type": "code",
   "execution_count": 24,
   "metadata": {},
   "outputs": [],
   "source": [
    "np.save(\"eddy_data\", eddy_data)\n",
    "np.save(\"map_circulation\", map_circulation_final[:,0,:,:]) #omit depth because there is only one\n",
    "np.save(\"nEd\", nEd)\n",
    "np.save(\"n_cyclonic\", n_cyclonic)"
   ]
  },
  {
   "cell_type": "markdown",
   "metadata": {},
   "source": [
    "## To load them\n",
    "They will load as an numpy array and not a list."
   ]
  },
  {
   "cell_type": "code",
   "execution_count": 42,
   "metadata": {},
   "outputs": [
    {
     "data": {
      "text/plain": [
       "(92, 205, 385)"
      ]
     },
     "execution_count": 42,
     "metadata": {},
     "output_type": "execute_result"
    }
   ],
   "source": [
    "map_circulation2 = np.load(\"map_circulation.npy\")\n",
    "map_circulation2.shape"
   ]
  },
  {
   "cell_type": "markdown",
   "metadata": {},
   "source": [
    "### We can also pretty print the dates\n",
    "It might be useful..."
   ]
  },
  {
   "cell_type": "code",
   "execution_count": 39,
   "metadata": {},
   "outputs": [
    {
     "name": "stdout",
     "output_type": "stream",
     "text": [
      "['2015-07-01', '2015-07-02', '2015-07-03', '2015-07-04', '2015-07-05', '2015-07-06', '2015-07-07', '2015-07-08', '2015-07-09', '2015-07-10', '2015-07-11', '2015-07-12', '2015-07-13', '2015-07-14', '2015-07-15', '2015-07-16', '2015-07-17', '2015-07-18', '2015-07-19', '2015-07-20', '2015-07-21', '2015-07-22', '2015-07-23', '2015-07-24', '2015-07-25', '2015-07-26', '2015-07-27', '2015-07-28', '2015-07-29', '2015-07-30', '2015-07-31', '2015-08-01', '2015-08-02', '2015-08-03', '2015-08-04', '2015-08-05', '2015-08-06', '2015-08-07', '2015-08-08', '2015-08-09', '2015-08-10', '2015-08-11', '2015-08-12', '2015-08-13', '2015-08-14', '2015-08-15', '2015-08-16', '2015-08-17', '2015-08-18', '2015-08-19', '2015-08-20', '2015-08-21', '2015-08-22', '2015-08-23', '2015-08-24', '2015-08-25', '2015-08-26', '2015-08-27', '2015-08-28', '2015-08-29', '2015-08-30', '2015-08-31', '2015-09-01', '2015-09-02', '2015-09-03', '2015-09-04', '2015-09-05', '2015-09-06', '2015-09-07', '2015-09-08', '2015-09-09', '2015-09-10', '2015-09-11', '2015-09-12', '2015-09-13', '2015-09-14', '2015-09-15', '2015-09-16', '2015-09-17', '2015-09-18', '2015-09-19', '2015-09-20', '2015-09-21', '2015-09-22', '2015-09-23', '2015-09-24', '2015-09-25', '2015-09-26', '2015-09-27', '2015-09-28', '2015-09-29', '2015-09-30']\n"
     ]
    }
   ],
   "source": [
    "import datetime\n",
    "\n",
    "def julianh2gregorian(time_hours,origin):\n",
    "    return origin + datetime.timedelta(hours=time_hours)\n",
    "\n",
    "origin_julian = datetime.date(1950, 1, 1) \n",
    "\n",
    "gregorian_dates = []\n",
    "gregorian_str = []\n",
    "for i in range(len(t)):\n",
    "    gregorian_dates.append(julianh2gregorian(t[i],origin_julian))\n",
    "    gregorian_str.append(str(gregorian_dates[i]))\n",
    "\n",
    "print(gregorian_str)"
   ]
  }
 ],
 "metadata": {
  "kernelspec": {
   "display_name": "Python 3",
   "language": "python",
   "name": "python3"
  },
  "language_info": {
   "codemirror_mode": {
    "name": "ipython",
    "version": 3
   },
   "file_extension": ".py",
   "mimetype": "text/x-python",
   "name": "python",
   "nbconvert_exporter": "python",
   "pygments_lexer": "ipython3",
   "version": "3.7.0"
  }
 },
 "nbformat": 4,
 "nbformat_minor": 2
}
