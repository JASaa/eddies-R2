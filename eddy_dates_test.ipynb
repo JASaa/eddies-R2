{
 "cells": [
  {
   "cell_type": "markdown",
   "metadata": {},
   "source": [
    "# Test of running the code for several dates\n",
    "\n",
    "*JASaa*\n",
    "\n",
    "*PIE017 ISAE-SUPAERO*"
   ]
  },
  {
   "cell_type": "markdown",
   "metadata": {},
   "source": [
    "## Load data and import functions"
   ]
  },
  {
   "cell_type": "code",
   "execution_count": 19,
   "metadata": {},
   "outputs": [],
   "source": [
    "from eddies import load_netcdf4,eddy_detection,print_eddies,plot_eddies\n",
    "\n",
    "#name of the netCDF data file\n",
    "filename = 'Lebreton_2015.nc'\n",
    "\n",
    "# load data\n",
    "(f,lon,lat,depth,uvel,vvel,t) =  load_netcdf4(filename)\n",
    "\n",
    "# Confidence level, usually 90%\n",
    "R2_criterion = 0.9\n",
    "# OW value at which to begin the evaluation of R2\n",
    "OW_start = -1.0\n",
    "# Number of local minima to evaluate using R2 method.\n",
    "# Set low (like 20) to see a few R2 eddies quickly.\n",
    "# Set high (like 1e5) to find all eddies in domain.\n",
    "max_evaluation_points = 2000\n",
    "# Minimum number of cells required to be identified as an eddie.\n",
    "min_eddie_cells = 3 # set to 3 to be coherent with the use of the R2 method, 3 points seems like a reasonable minimun for a correlation \n",
    "# z-level to plot.  Usually set to 0 for the surface.\n",
    "k_plot = 0"
   ]
  },
  {
   "cell_type": "markdown",
   "metadata": {},
   "source": [
    "## Print the dates"
   ]
  },
  {
   "cell_type": "code",
   "execution_count": 76,
   "metadata": {},
   "outputs": [
    {
     "name": "stdout",
     "output_type": "stream",
     "text": [
      "['2015-07-01', '2015-07-02', '2015-07-03', '2015-07-04', '2015-07-05', '2015-07-06', '2015-07-07', '2015-07-08', '2015-07-09', '2015-07-10', '2015-07-11', '2015-07-12', '2015-07-13', '2015-07-14', '2015-07-15', '2015-07-16', '2015-07-17', '2015-07-18', '2015-07-19', '2015-07-20', '2015-07-21', '2015-07-22', '2015-07-23', '2015-07-24', '2015-07-25', '2015-07-26', '2015-07-27', '2015-07-28', '2015-07-29', '2015-07-30', '2015-07-31', '2015-08-01', '2015-08-02', '2015-08-03', '2015-08-04', '2015-08-05', '2015-08-06', '2015-08-07', '2015-08-08', '2015-08-09', '2015-08-10', '2015-08-11', '2015-08-12', '2015-08-13', '2015-08-14', '2015-08-15', '2015-08-16', '2015-08-17', '2015-08-18', '2015-08-19', '2015-08-20', '2015-08-21', '2015-08-22', '2015-08-23', '2015-08-24', '2015-08-25', '2015-08-26', '2015-08-27', '2015-08-28', '2015-08-29', '2015-08-30', '2015-08-31', '2015-09-01', '2015-09-02', '2015-09-03', '2015-09-04', '2015-09-05', '2015-09-06', '2015-09-07', '2015-09-08', '2015-09-09', '2015-09-10', '2015-09-11', '2015-09-12', '2015-09-13', '2015-09-14', '2015-09-15', '2015-09-16', '2015-09-17', '2015-09-18', '2015-09-19', '2015-09-20', '2015-09-21', '2015-09-22', '2015-09-23', '2015-09-24', '2015-09-25', '2015-09-26', '2015-09-27', '2015-09-28', '2015-09-29', '2015-09-30']\n"
     ]
    }
   ],
   "source": [
    "import datetime\n",
    "\n",
    "def julianh2gregorian(time_hours,origin):\n",
    "    return origin + datetime.timedelta(hours=time_hours)\n",
    "\n",
    "origin_julian = datetime.date(1950, 1, 1) \n",
    "\n",
    "gregorian_dates = []\n",
    "gregorian_str = []\n",
    "for i in range(len(t)):\n",
    "    gregorian_dates.append(julianh2gregorian(t[i],origin_julian))\n",
    "    gregorian_str.append(str(gregorian_dates[i]))\n",
    "\n",
    "print(gregorian_str)"
   ]
  },
  {
   "cell_type": "markdown",
   "metadata": {},
   "source": [
    "## Run code for several days\n",
    "We can start with a few eddies for a few day to test"
   ]
  },
  {
   "cell_type": "code",
   "execution_count": null,
   "metadata": {},
   "outputs": [],
   "source": [
    "%%capture\n",
    "\n",
    "eddy_data = []\n",
    "for day in range(len(t)):\n",
    "    eddy_data.append(eddy_detection(lon,lat,depth,uvel,vvel,day,R2_criterion,OW_start,max_evaluation_points,min_eddie_cells)) \n",
    "    #list: lon,lat,uvel,vvel,vorticity,OW,OW_eddies,eddie_census,nEddies,circulation_mask"
   ]
  },
  {
   "cell_type": "code",
   "execution_count": null,
   "metadata": {},
   "outputs": [],
   "source": [
    "import numpy as np\n",
    "\n",
    "# (lon,lat,uvel,vvel,vorticity,OW,OW_eddies,eddie_census,nEddies,cyclonic_mask,intensity_mask)\n",
    "nEd = np.zeros(len(t),dtype=int)\n",
    "n_cyclonic = np.zeros(len(t),dtype=int)\n",
    "eddy_census_list = []\n",
    "map_intensity = []\n",
    "for day in range(len(t)):\n",
    "    nEd[day] = eddy_data[day][8] #count the number of eddies for each day with circ>0 for each day\n",
    "    eddy_census_list.append(eddy_data[day][7])\n",
    "    n_cyclonic[day] = sum(circ > 0. for circ in eddy_census_list[day][1]) #count the number of eddies with circ>0 for each day\n",
    "    map_intensity.append(eddy_data[day][10])"
   ]
  },
  {
   "cell_type": "code",
   "execution_count": 6,
   "metadata": {},
   "outputs": [],
   "source": [
    "%%capture\n",
    "data = eddy_detection(lon,lat,depth,uvel,vvel,0,R2_criterion,OW_start,max_evaluation_points,min_eddie_cells)"
   ]
  },
  {
   "cell_type": "code",
   "execution_count": 9,
   "metadata": {},
   "outputs": [
    {
     "data": {
      "text/plain": [
       "197"
      ]
     },
     "execution_count": 9,
     "metadata": {},
     "output_type": "execute_result"
    }
   ],
   "source": [
    "data[8]"
   ]
  },
  {
   "cell_type": "code",
   "execution_count": 55,
   "metadata": {},
   "outputs": [
    {
     "name": "stdout",
     "output_type": "stream",
     "text": [
      "\n",
      "Eddie census data\n",
      "\n",
      "        minOW  circ(m^2/s)      lon(º)     lat(º)  cells  diameter(km)\n",
      "1   -3.326598 -5451.671475 -127.833336  40.416668  203.0    130.548555\n",
      "2   -1.312622 -3099.286868 -130.666672  26.583334   28.0     53.268614\n",
      "3   -2.640891 -3684.041451 -131.333328  28.916666   35.0     58.796918\n",
      "4   -2.381205  5547.190935 -153.833328  27.250000  309.0    173.651436\n",
      "5   -1.686378 -2796.587454 -131.000000  39.916668   54.0     67.840815\n",
      "6   -2.729256  4640.578106 -133.166672  38.250000  222.0    138.460075\n",
      "7   -6.455398 -5076.902428 -145.166672  39.666668   37.0     56.687007\n",
      "8   -1.734236  3069.762762 -128.333328  33.666668   80.0     85.836499\n",
      "9   -2.486086 -3740.353974 -137.666672  37.916668   54.0     69.059139\n",
      "10  -8.346579  7241.461694 -126.083336  38.166668  346.0    173.134944\n",
      "11  -1.272739 -3037.303669 -148.916672  38.666668    4.0     20.672296\n",
      "12  -1.734865  3435.283661 -133.250000  30.916666   76.0     84.988059\n",
      "13  -2.812012 -3593.308957 -148.583328  30.583334  131.0    111.767177\n",
      "14  -2.576809  3800.856273 -144.416672  37.916668   69.0     77.803357\n",
      "15  -2.169148 -3020.267261 -146.583328  35.833332   21.0     44.234594\n",
      "16 -10.991759 -9877.106047 -144.583328  25.583334   27.0     52.633960\n",
      "17  -1.333028  2897.745256 -151.166672  31.416666  224.0    145.103223\n",
      "18  -1.342352  2470.110609 -151.583328  36.666668   27.0     49.641451\n",
      "19  -1.815291  3905.072620 -140.833328  31.750000  108.0    100.846198\n",
      "20  -1.778107  3728.237858 -143.833328  35.750000  117.0    102.387259\n"
     ]
    }
   ],
   "source": [
    "print_eddies(eddy_census_list[0],nEd[0])"
   ]
  },
  {
   "cell_type": "code",
   "execution_count": 20,
   "metadata": {},
   "outputs": [
    {
     "ename": "NameError",
     "evalue": "name 'nEd' is not defined",
     "output_type": "error",
     "traceback": [
      "\u001b[1;31m---------------------------------------------------------------------------\u001b[0m",
      "\u001b[1;31mNameError\u001b[0m                                 Traceback (most recent call last)",
      "\u001b[1;32m<ipython-input-20-790d363bcb64>\u001b[0m in \u001b[0;36m<module>\u001b[1;34m()\u001b[0m\n\u001b[0;32m      2\u001b[0m \u001b[1;32mimport\u001b[0m \u001b[0mnumpy\u001b[0m \u001b[1;32mas\u001b[0m \u001b[0mnp\u001b[0m\u001b[1;33m\u001b[0m\u001b[0m\n\u001b[0;32m      3\u001b[0m \u001b[1;33m\u001b[0m\u001b[0m\n\u001b[1;32m----> 4\u001b[1;33m \u001b[0mplt\u001b[0m\u001b[1;33m.\u001b[0m\u001b[0mbar\u001b[0m\u001b[1;33m(\u001b[0m\u001b[0mnp\u001b[0m\u001b[1;33m.\u001b[0m\u001b[0marange\u001b[0m\u001b[1;33m(\u001b[0m\u001b[0mlen\u001b[0m\u001b[1;33m(\u001b[0m\u001b[0mt\u001b[0m\u001b[1;33m)\u001b[0m\u001b[1;33m)\u001b[0m\u001b[1;33m,\u001b[0m\u001b[0mnEd\u001b[0m\u001b[1;33m)\u001b[0m\u001b[1;33m\u001b[0m\u001b[0m\n\u001b[0m\u001b[0;32m      5\u001b[0m \u001b[0mplt\u001b[0m\u001b[1;33m.\u001b[0m\u001b[0mylabel\u001b[0m\u001b[1;33m(\u001b[0m\u001b[1;34m'Total number of eddies'\u001b[0m\u001b[1;33m)\u001b[0m\u001b[1;33m\u001b[0m\u001b[0m\n\u001b[0;32m      6\u001b[0m \u001b[0mplt\u001b[0m\u001b[1;33m.\u001b[0m\u001b[0mxlabel\u001b[0m\u001b[1;33m(\u001b[0m\u001b[1;34m'Day'\u001b[0m\u001b[1;33m)\u001b[0m\u001b[1;33m\u001b[0m\u001b[0m\n",
      "\u001b[1;31mNameError\u001b[0m: name 'nEd' is not defined"
     ]
    }
   ],
   "source": [
    "import matplotlib.pyplot as plt\n",
    "import numpy as np\n",
    "\n",
    "plt.bar(np.arange(len(t)),nEd)\n",
    "plt.ylabel('Total number of eddies')\n",
    "plt.xlabel('Day')\n",
    "plt.show()"
   ]
  },
  {
   "cell_type": "code",
   "execution_count": 35,
   "metadata": {},
   "outputs": [
    {
     "data": {
      "image/png": "[encoded data removed]",
      "text/plain": [
       "<Figure size 432x288 with 1 Axes>"
      ]
     },
     "metadata": {
      "needs_background": "light"
     },
     "output_type": "display_data"
    }
   ],
   "source": [
    "import matplotlib.pyplot as plt\n",
    "import numpy as np\n",
    "\n",
    "plt.bar(np.arange(len(t)),n_cyclonic)\n",
    "plt.ylabel('Number of cyclonic eddies')\n",
    "plt.xlabel('Day')\n",
    "plt.show()"
   ]
  },
  {
   "cell_type": "code",
   "execution_count": 22,
   "metadata": {},
   "outputs": [
    {
     "data": {
      "image/png": "[encoded data removed]",
      "text/plain": [
       "<Figure size 432x288 with 1 Axes>"
      ]
     },
     "metadata": {
      "needs_background": "light"
     },
     "output_type": "display_data"
    }
   ],
   "source": [
    "import matplotlib.pyplot as plt\n",
    "#plot of circulation vs diameter for a certain day\n",
    "day0 = 0 \n",
    "\n",
    "plt.plot(eddy_census_list[day0][5,:nEd[day0]],eddy_census_list[day0][1,:nEd[day0]],'.')\n",
    "plt.xlabel('Diameter (km)')\n",
    "plt.ylabel('Circulation (m^2/s)')\n",
    "plt.show()"
   ]
  },
  {
   "cell_type": "code",
   "execution_count": 24,
   "metadata": {},
   "outputs": [
    {
     "data": {
      "text/plain": [
       "array([130.54855496,  53.26861357,  58.79691755, 173.65143593,\n",
       "        67.840815  , 138.4600747 ,  56.68700726,  85.8364991 ,\n",
       "        69.05913931, 173.13494367,  20.67229553,  84.98805914,\n",
       "       111.76717745,  77.80335733,  44.23459408,  52.63395989,\n",
       "       145.10322286,  49.64145051, 100.84619832, 102.38725895])"
      ]
     },
     "execution_count": 24,
     "metadata": {},
     "output_type": "execute_result"
    }
   ],
   "source": [
    "eddy_census_list[day0][5,:nEd[day0]]"
   ]
  },
  {
   "cell_type": "code",
   "execution_count": 25,
   "metadata": {},
   "outputs": [
    {
     "data": {
      "text/plain": [
       "array([20, 29, 25,  0,  0,  0,  0,  0,  0,  0,  0,  0,  0,  0,  0,  0,  0,\n",
       "        0,  0,  0,  0,  0,  0,  0,  0,  0,  0,  0,  0,  0,  0,  0,  0,  0,\n",
       "        0,  0,  0,  0,  0,  0,  0,  0,  0,  0,  0,  0,  0,  0,  0,  0,  0,\n",
       "        0,  0,  0,  0,  0,  0,  0,  0,  0,  0,  0,  0,  0,  0,  0,  0,  0,\n",
       "        0,  0,  0,  0,  0,  0,  0,  0,  0,  0,  0,  0,  0,  0,  0,  0,  0,\n",
       "        0,  0,  0,  0,  0,  0,  0])"
      ]
     },
     "execution_count": 25,
     "metadata": {},
     "output_type": "execute_result"
    }
   ],
   "source": [
    "nEd"
   ]
  },
  {
   "cell_type": "code",
   "execution_count": 18,
   "metadata": {},
   "outputs": [
    {
     "data": {
      "text/plain": [
       "<matplotlib.image.AxesImage at 0x1db9d7d8ef0>"
      ]
     },
     "execution_count": 18,
     "metadata": {},
     "output_type": "execute_result"
    },
    {
     "data": {
      "image/png": "[encoded data removed]",
      "text/plain": [
       "<Figure size 432x288 with 1 Axes>"
      ]
     },
     "metadata": {
      "needs_background": "light"
     },
     "output_type": "display_data"
    }
   ],
   "source": [
    "import matplotlib.pyplot as plt\n",
    "\n",
    "plt.imshow(data[9][:,:,k_plot].T, extent=[lon[0],lon[-1],lat[0],lat[-1]],aspect='auto',origin=\"lower\",cmap='jet')"
   ]
  },
  {
   "cell_type": "code",
   "execution_count": 4,
   "metadata": {},
   "outputs": [
    {
     "data": {
      "text/plain": [
       "(3, 1758)"
      ]
     },
     "execution_count": 4,
     "metadata": {},
     "output_type": "execute_result"
    }
   ],
   "source": [
    "from eddies import local_peaks\n",
    "local_peaks(data[5],OW_start,2000).shape"
   ]
  },
  {
   "cell_type": "code",
   "execution_count": 17,
   "metadata": {},
   "outputs": [
    {
     "data": {
      "text/plain": [
       "(385, 205, 1)"
      ]
     },
     "execution_count": 17,
     "metadata": {},
     "output_type": "execute_result"
    }
   ],
   "source": [
    "data[9].shape"
   ]
  },
  {
   "cell_type": "code",
   "execution_count": null,
   "metadata": {},
   "outputs": [],
   "source": []
  }
 ],
 "metadata": {
  "kernelspec": {
   "display_name": "Python 3",
   "language": "python",
   "name": "python3"
  },
  "language_info": {
   "codemirror_mode": {
    "name": "ipython",
    "version": 3
   },
   "file_extension": ".py",
   "mimetype": "text/x-python",
   "name": "python",
   "nbconvert_exporter": "python",
   "pygments_lexer": "ipython3",
   "version": "3.7.0"
  }
 },
 "nbformat": 4,
 "nbformat_minor": 2
}
