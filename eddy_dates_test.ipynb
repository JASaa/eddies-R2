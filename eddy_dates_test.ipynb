{
 "cells": [
  {
   "cell_type": "markdown",
   "metadata": {},
   "source": [
    "# Test of eddy detection functions\n",
    "### Using the eddies.py functions, to be modified to calculate all eddies in Lebreton data ###\n",
    "\n",
    "*JASaa*\n",
    "\n",
    "*ISAE-SUPAERO*"
   ]
  },
  {
   "cell_type": "markdown",
   "metadata": {},
   "source": [
    "## Load data and import functions"
   ]
  },
  {
   "cell_type": "code",
   "execution_count": 2,
   "metadata": {},
   "outputs": [],
   "source": [
    "from eddies import eddy_detection,print_eddies,plot_eddies,local_peaks,local_minima3D,find_local_mins\n",
    "\n",
    "#name of the netCDF data file\n",
    "filename = 'Lebreton_2015.nc'\n",
    "# Confidence level, usually 90%\n",
    "R2_criterion = 0.9\n",
    "# OW value at which to begin the evaluation of R2\n",
    "OW_start = -1.0\n",
    "# Number of local minima to evaluate using R2 method.\n",
    "# Set low (like 20) to see a few R2 eddies quickly.\n",
    "# Set high (like 1e5) to find all eddies in domain.\n",
    "max_evaluation_points = 1000\n",
    "# Minimum number of cells required to be identified as an eddie.\n",
    "min_eddie_cells = 1\n",
    "# z-level to plot.  Usually set to 0 for the surface.\n",
    "k_plot = 0"
   ]
  },
  {
   "cell_type": "markdown",
   "metadata": {},
   "source": [
    "## Run code for several days"
   ]
  },
  {
   "cell_type": "code",
   "execution_count": 42,
   "metadata": {},
   "outputs": [
    {
     "name": "stdout",
     "output_type": "stream",
     "text": [
      "<class 'netCDF4._netCDF4.Dataset'>\n",
      "root group (NETCDF3_CLASSIC data model, file format NETCDF3):\n",
      "    title: daily mean fields from Global Ocean Physics Analysis and Forecast updated Daily\n",
      "    easting: longitude\n",
      "    northing: latitude\n",
      "    history: 2018/04/13 02:56:22 MERCATOR OCEAN Netcdf creation\n",
      "    source: MERCATOR GLORYS12V1\n",
      "    institution: MERCATOR OCEAN\n",
      "    references: http://www.mercator-ocean.fr\n",
      "    comment: CMEMS product\n",
      "    Conventions: CF-1.4\n",
      "    domain_name: GL12\n",
      "    FROM_ORIGINAL_FILE__field_type: mean\n",
      "    field_date: 2016-12-27 00:00:00\n",
      "    field_julian_date: 24467.0\n",
      "    julian_day_unit: days since 1950-01-01 00:00:00\n",
      "    forecast_range: 6-day_forecast\n",
      "    forecast_type: hindcast\n",
      "    bulletin_date: 2016-12-28 00:00:00\n",
      "    bulletin_type: operational\n",
      "    FROM_ORIGINAL_FILE__longitude_min: -180.0\n",
      "    FROM_ORIGINAL_FILE__longitude_max: 179.91667\n",
      "    FROM_ORIGINAL_FILE__latitude_min: -80.0\n",
      "    FROM_ORIGINAL_FILE__latitude_max: 90.0\n",
      "    z_min: 0.494025\n",
      "    z_max: 5727.917\n",
      "    _CoordSysBuilder: ucar.nc2.dataset.conv.CF1Convention\n",
      "    dimensions(sizes): time(92), depth(1), latitude(205), longitude(385)\n",
      "    variables(dimensions): float32 \u001b[4mdepth\u001b[0m(depth), float32 \u001b[4mlatitude\u001b[0m(latitude), int16 \u001b[4mvo\u001b[0m(time,depth,latitude,longitude), int16 \u001b[4mthetao\u001b[0m(time,depth,latitude,longitude), int16 \u001b[4muo\u001b[0m(time,depth,latitude,longitude), float64 \u001b[4mtime\u001b[0m(time), float32 \u001b[4mlongitude\u001b[0m(longitude), int16 \u001b[4mzos\u001b[0m(time,latitude,longitude)\n",
      "    groups: \n",
      "\n"
     ]
    }
   ],
   "source": [
    "import netCDF4 as nc4 \n",
    "#name of the netCDF data file\n",
    "filename = 'Lebreton_2015.nc'\n",
    "\n",
    "f = nc4.Dataset(filename,'r', format='NETCDF4') #'r' stands for read\n",
    "lon = f.variables['longitude'][:]\n",
    "lat = f.variables['latitude'][:]\n",
    "depth = f.variables['depth'][:]\n",
    "# Load zonal and meridional velocity, in m/s\n",
    "uvel = f.variables['uo'][:]\n",
    "vvel = f.variables['vo'][:]\n",
    "t = f.variables['time'][:]\n",
    "print (f)\n",
    "f.close() "
   ]
  },
  {
   "cell_type": "code",
   "execution_count": 43,
   "metadata": {},
   "outputs": [],
   "source": [
    "import datetime\n",
    "import numpy as np\n",
    "\n",
    "def julianh2gregorian(time_hours,origin):\n",
    "    return origin + datetime.timedelta(hours=time_hours)"
   ]
  },
  {
   "cell_type": "code",
   "execution_count": 44,
   "metadata": {},
   "outputs": [],
   "source": [
    "origin_julian = datetime.date(1950, 1, 1) \n",
    "\n",
    "gregorian_dates = []\n",
    "gregorian_str = []\n",
    "for i in range(len(t)):\n",
    "    gregorian_dates.append(julianh2gregorian(t[i],origin_julian))\n",
    "    gregorian_str.append(str(gregorian_dates[i]))"
   ]
  },
  {
   "cell_type": "code",
   "execution_count": 45,
   "metadata": {},
   "outputs": [
    {
     "data": {
      "text/plain": [
       "['2015-07-01',\n",
       " '2015-07-02',\n",
       " '2015-07-03',\n",
       " '2015-07-04',\n",
       " '2015-07-05',\n",
       " '2015-07-06',\n",
       " '2015-07-07',\n",
       " '2015-07-08',\n",
       " '2015-07-09',\n",
       " '2015-07-10',\n",
       " '2015-07-11',\n",
       " '2015-07-12',\n",
       " '2015-07-13',\n",
       " '2015-07-14',\n",
       " '2015-07-15',\n",
       " '2015-07-16',\n",
       " '2015-07-17',\n",
       " '2015-07-18',\n",
       " '2015-07-19',\n",
       " '2015-07-20',\n",
       " '2015-07-21',\n",
       " '2015-07-22',\n",
       " '2015-07-23',\n",
       " '2015-07-24',\n",
       " '2015-07-25',\n",
       " '2015-07-26',\n",
       " '2015-07-27',\n",
       " '2015-07-28',\n",
       " '2015-07-29',\n",
       " '2015-07-30',\n",
       " '2015-07-31',\n",
       " '2015-08-01',\n",
       " '2015-08-02',\n",
       " '2015-08-03',\n",
       " '2015-08-04',\n",
       " '2015-08-05',\n",
       " '2015-08-06',\n",
       " '2015-08-07',\n",
       " '2015-08-08',\n",
       " '2015-08-09',\n",
       " '2015-08-10',\n",
       " '2015-08-11',\n",
       " '2015-08-12',\n",
       " '2015-08-13',\n",
       " '2015-08-14',\n",
       " '2015-08-15',\n",
       " '2015-08-16',\n",
       " '2015-08-17',\n",
       " '2015-08-18',\n",
       " '2015-08-19',\n",
       " '2015-08-20',\n",
       " '2015-08-21',\n",
       " '2015-08-22',\n",
       " '2015-08-23',\n",
       " '2015-08-24',\n",
       " '2015-08-25',\n",
       " '2015-08-26',\n",
       " '2015-08-27',\n",
       " '2015-08-28',\n",
       " '2015-08-29',\n",
       " '2015-08-30',\n",
       " '2015-08-31',\n",
       " '2015-09-01',\n",
       " '2015-09-02',\n",
       " '2015-09-03',\n",
       " '2015-09-04',\n",
       " '2015-09-05',\n",
       " '2015-09-06',\n",
       " '2015-09-07',\n",
       " '2015-09-08',\n",
       " '2015-09-09',\n",
       " '2015-09-10',\n",
       " '2015-09-11',\n",
       " '2015-09-12',\n",
       " '2015-09-13',\n",
       " '2015-09-14',\n",
       " '2015-09-15',\n",
       " '2015-09-16',\n",
       " '2015-09-17',\n",
       " '2015-09-18',\n",
       " '2015-09-19',\n",
       " '2015-09-20',\n",
       " '2015-09-21',\n",
       " '2015-09-22',\n",
       " '2015-09-23',\n",
       " '2015-09-24',\n",
       " '2015-09-25',\n",
       " '2015-09-26',\n",
       " '2015-09-27',\n",
       " '2015-09-28',\n",
       " '2015-09-29',\n",
       " '2015-09-30']"
      ]
     },
     "execution_count": 45,
     "metadata": {},
     "output_type": "execute_result"
    }
   ],
   "source": [
    "gregorian_str"
   ]
  },
  {
   "cell_type": "code",
   "execution_count": null,
   "metadata": {},
   "outputs": [],
   "source": []
  }
 ],
 "metadata": {
  "kernelspec": {
   "display_name": "Python 3",
   "language": "python",
   "name": "python3"
  },
  "language_info": {
   "codemirror_mode": {
    "name": "ipython",
    "version": 3
   },
   "file_extension": ".py",
   "mimetype": "text/x-python",
   "name": "python",
   "nbconvert_exporter": "python",
   "pygments_lexer": "ipython3",
   "version": "3.7.0"
  }
 },
 "nbformat": 4,
 "nbformat_minor": 2
}
