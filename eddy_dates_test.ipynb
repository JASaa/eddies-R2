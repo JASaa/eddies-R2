{
 "cells": [
  {
   "cell_type": "markdown",
   "metadata": {},
   "source": [
    "# Test of running the code for several dates\n",
    "\n",
    "*JASaa*\n",
    "\n",
    "*PIE017 ISAE-SUPAERO*"
   ]
  },
  {
   "cell_type": "markdown",
   "metadata": {},
   "source": [
    "## Load data and import functions"
   ]
  },
  {
   "cell_type": "code",
   "execution_count": 26,
   "metadata": {},
   "outputs": [],
   "source": [
    "from eddies import load_netcdf4,eddy_detection,print_eddies,plot_eddies\n",
    "\n",
    "#name of the netCDF data file\n",
    "filename = 'Lebreton_2015.nc'\n",
    "\n",
    "# load data\n",
    "(f,lon,lat,depth,uvel,vvel,t) =  load_netcdf4(filename)\n",
    "\n",
    "# Confidence level, usually 90%\n",
    "R2_criterion = 0.9\n",
    "# OW value at which to begin the evaluation of R2\n",
    "OW_start = -1.0\n",
    "# Number of local minima to evaluate using R2 method.\n",
    "# Set low (like 20) to see a few R2 eddies quickly.\n",
    "# Set high (like 1e5) to find all eddies in domain.\n",
    "max_evaluation_points = 20 #set to 2000 to capture avery minima, there should be around 1800\n",
    "# Minimum number of cells required to be identified as an eddie.\n",
    "min_eddie_cells = 3 # set to 3 to be coherent with the use of the R2 method, 3 points seems like a reasonable minimun for a correlation \n",
    "# z-level to plot.  Usually set to 0 for the surface.\n",
    "k_plot = 0"
   ]
  },
  {
   "cell_type": "markdown",
   "metadata": {},
   "source": [
    "## Run code for several days\n",
    "Run this cell to generate data for every day\n",
    "- **eddy_data** is a list of len(t) (or 92 elements for the Lebreton2015 data) tuples \n",
    "    *(lon,lat,uvel,vvel,vorticity,OW,OW_eddies,eddie_census,nEddies,circulation_mask)* \n",
    "- *lon,lat,uvel,vvel* are not in the same format as the original netcdf data, they are transposed and only for one day\n",
    "- *circulation_mask* has the circulation for each cell such that circulation_mask = circ(lon,lat). The circulation is constant in an eddy and 0 outside of any eddy\n",
    "    - circ>0 : cyclonic eddy\n",
    "    - circ<0 : anti-cyclonic eddy\n",
    "    - circ=0 :  no eddy\n",
    "    \n",
    "To know more about each output, refer to the comments at the top of **eddies.py**"
   ]
  },
  {
   "cell_type": "code",
   "execution_count": 27,
   "metadata": {},
   "outputs": [],
   "source": [
    "%%capture\n",
    "\n",
    "eddy_data = []\n",
    "for day in range(len(t)):\n",
    "    eddy_data.append(eddy_detection(lon,lat,depth,uvel,vvel,day,R2_criterion,OW_start,max_evaluation_points,min_eddie_cells)) \n",
    "    #list: lon,lat,uvel,vvel,vorticity,OW,OW_eddies,eddie_census,nEddies,circulation_mask"
   ]
  },
  {
   "cell_type": "markdown",
   "metadata": {},
   "source": [
    "### Example : to acces the circulation mask for each day and store it in a list"
   ]
  },
  {
   "cell_type": "code",
   "execution_count": 40,
   "metadata": {},
   "outputs": [],
   "source": [
    "import numpy as np\n",
    "\n",
    "nEd = np.zeros(len(t),dtype=int)\n",
    "n_cyclonic = np.zeros(len(t),dtype=int)\n",
    "eddy_census_list = []\n",
    "mask_circulation_list = []\n",
    "for day in range(len(t)):\n",
    "    nEd[day] = eddy_data[day][8] #count the number of eddies for each day with circ>0 for each day\n",
    "    eddy_census_list.append(eddy_data[day][7]) #store all eddy_census in a list\n",
    "    n_cyclonic[day] = sum(circ > 0. for circ in eddy_census_list[day][1]) #count the number of eddies with circ>0 for each day\n",
    "    mask_circulation_list.append(eddy_data[day][9]) #list of circulation masks"
   ]
  },
  {
   "cell_type": "code",
   "execution_count": 41,
   "metadata": {},
   "outputs": [
    {
     "name": "stdout",
     "output_type": "stream",
     "text": [
      "\n",
      "Eddie census data\n",
      "\n",
      "       minOW  circ(m^2/s)      lon(º)     lat(º)  cells  diameter(km)\n",
      "1  -1.018026  1967.118489 -146.166672  35.583332    4.0     21.112064\n",
      "2  -1.565762  4898.388022 -142.000000  35.416668  271.0    156.668046\n",
      "3  -1.095013 -2132.443575 -143.666672  41.333332   38.0     56.752173\n",
      "4  -1.758855  2606.605709 -146.916672  41.333332   45.0     61.641662\n",
      "5  -1.106141 -2232.649035 -146.666672  39.666668   38.0     57.172476\n",
      "6  -1.835665 -3078.219284 -151.250000  29.583334   48.0     68.282917\n",
      "7  -2.486086 -3740.353974 -137.666672  37.916668   54.0     69.059139\n",
      "8  -2.646354  3652.371800 -132.500000  37.333332   57.0     71.149317\n",
      "9  -1.041717 -2699.189087 -150.500000  31.916666   17.0     40.893884\n",
      "10 -1.880907  3064.873219 -141.166672  26.583334   55.0     74.016570\n",
      "11 -2.303506 -4075.053010 -153.000000  25.583334   25.0     50.702113\n",
      "12 -2.118092 -4775.541925 -136.583328  39.166668  211.0    134.369528\n",
      "13 -1.869388 -2861.738125 -156.416672  33.833332   30.0     53.156078\n"
     ]
    }
   ],
   "source": [
    "print_eddies(eddy_census_list[0],nEd[0])"
   ]
  },
  {
   "cell_type": "markdown",
   "metadata": {},
   "source": [
    "## Example of some interesting post-processing\n",
    "Similar plot to the Petersen2013 paper"
   ]
  },
  {
   "cell_type": "code",
   "execution_count": 42,
   "metadata": {},
   "outputs": [
    {
     "data": {
      "image/png": "[encoded data removed]",
      "text/plain": [
       "<Figure size 432x288 with 1 Axes>"
      ]
     },
     "metadata": {
      "needs_background": "light"
     },
     "output_type": "display_data"
    }
   ],
   "source": [
    "#number of eddies vs day\n",
    "import matplotlib.pyplot as plt\n",
    "import numpy as np\n",
    "\n",
    "plt.bar(np.arange(len(t)),nEd)\n",
    "plt.ylabel('Total number of eddies')\n",
    "plt.xlabel('Day')\n",
    "plt.show()"
   ]
  },
  {
   "cell_type": "code",
   "execution_count": 43,
   "metadata": {},
   "outputs": [
    {
     "data": {
      "image/png": "[encoded data removed]",
      "text/plain": [
       "<Figure size 432x288 with 1 Axes>"
      ]
     },
     "metadata": {
      "needs_background": "light"
     },
     "output_type": "display_data"
    }
   ],
   "source": [
    "#number of cyclonic eddies vs day\n",
    "import matplotlib.pyplot as plt\n",
    "import numpy as np\n",
    "\n",
    "plt.bar(np.arange(len(t)),n_cyclonic)\n",
    "plt.ylabel('Number of cyclonic eddies')\n",
    "plt.xlabel('Day')\n",
    "plt.show()"
   ]
  },
  {
   "cell_type": "code",
   "execution_count": 44,
   "metadata": {},
   "outputs": [
    {
     "data": {
      "image/png": "[encoded data removed]",
      "text/plain": [
       "<Figure size 432x288 with 1 Axes>"
      ]
     },
     "metadata": {
      "needs_background": "light"
     },
     "output_type": "display_data"
    }
   ],
   "source": [
    "#plot of circulation vs diameter for a certain day\n",
    "import matplotlib.pyplot as plt\n",
    "\n",
    "day0 = 0 \n",
    "\n",
    "plt.plot(eddy_census_list[day0][5,:nEd[day0]],eddy_census_list[day0][1,:nEd[day0]],'.')\n",
    "plt.xlabel('Diameter (km)')\n",
    "plt.ylabel('Circulation (m^2/s)')\n",
    "plt.show()"
   ]
  },
  {
   "cell_type": "markdown",
   "metadata": {},
   "source": [
    "### We put map_circulation in the same format as the original uvel, vvel, etc; that we took from the netcdf data."
   ]
  },
  {
   "cell_type": "code",
   "execution_count": 63,
   "metadata": {},
   "outputs": [
    {
     "data": {
      "text/plain": [
       "(92, 385, 205, 1)"
      ]
     },
     "execution_count": 63,
     "metadata": {},
     "output_type": "execute_result"
    }
   ],
   "source": [
    "# We turn the list into an ndarray like uvel, \n",
    "map_circulation = np.asarray(mask_circulation_list)\n",
    "map_circulation.shape"
   ]
  },
  {
   "cell_type": "code",
   "execution_count": 66,
   "metadata": {},
   "outputs": [
    {
     "data": {
      "text/plain": [
       "(92, 1, 205, 385)"
      ]
     },
     "execution_count": 66,
     "metadata": {},
     "output_type": "execute_result"
    }
   ],
   "source": [
    "# The shape that we need\n",
    "uvel.shape"
   ]
  },
  {
   "cell_type": "code",
   "execution_count": 70,
   "metadata": {},
   "outputs": [
    {
     "data": {
      "text/plain": [
       "(92, 1, 205, 385)"
      ]
     },
     "execution_count": 70,
     "metadata": {},
     "output_type": "execute_result"
    }
   ],
   "source": [
    "# Transpose to the new shape\n",
    "map_circulation_final = map_circulation.transpose(0,3,2,1)\n",
    "map_circulation_final.shape"
   ]
  },
  {
   "cell_type": "markdown",
   "metadata": {},
   "source": [
    "### We can also pretty print the dates\n",
    "It might be useful..."
   ]
  },
  {
   "cell_type": "code",
   "execution_count": 69,
   "metadata": {},
   "outputs": [
    {
     "name": "stdout",
     "output_type": "stream",
     "text": [
      "['2015-07-01', '2015-07-02', '2015-07-03', '2015-07-04', '2015-07-05', '2015-07-06', '2015-07-07', '2015-07-08', '2015-07-09', '2015-07-10', '2015-07-11', '2015-07-12', '2015-07-13', '2015-07-14', '2015-07-15', '2015-07-16', '2015-07-17', '2015-07-18', '2015-07-19', '2015-07-20', '2015-07-21', '2015-07-22', '2015-07-23', '2015-07-24', '2015-07-25', '2015-07-26', '2015-07-27', '2015-07-28', '2015-07-29', '2015-07-30', '2015-07-31', '2015-08-01', '2015-08-02', '2015-08-03', '2015-08-04', '2015-08-05', '2015-08-06', '2015-08-07', '2015-08-08', '2015-08-09', '2015-08-10', '2015-08-11', '2015-08-12', '2015-08-13', '2015-08-14', '2015-08-15', '2015-08-16', '2015-08-17', '2015-08-18', '2015-08-19', '2015-08-20', '2015-08-21', '2015-08-22', '2015-08-23', '2015-08-24', '2015-08-25', '2015-08-26', '2015-08-27', '2015-08-28', '2015-08-29', '2015-08-30', '2015-08-31', '2015-09-01', '2015-09-02', '2015-09-03', '2015-09-04', '2015-09-05', '2015-09-06', '2015-09-07', '2015-09-08', '2015-09-09', '2015-09-10', '2015-09-11', '2015-09-12', '2015-09-13', '2015-09-14', '2015-09-15', '2015-09-16', '2015-09-17', '2015-09-18', '2015-09-19', '2015-09-20', '2015-09-21', '2015-09-22', '2015-09-23', '2015-09-24', '2015-09-25', '2015-09-26', '2015-09-27', '2015-09-28', '2015-09-29', '2015-09-30']\n"
     ]
    }
   ],
   "source": [
    "import datetime\n",
    "\n",
    "def julianh2gregorian(time_hours,origin):\n",
    "    return origin + datetime.timedelta(hours=time_hours)\n",
    "\n",
    "origin_julian = datetime.date(1950, 1, 1) \n",
    "\n",
    "gregorian_dates = []\n",
    "gregorian_str = []\n",
    "for i in range(len(t)):\n",
    "    gregorian_dates.append(julianh2gregorian(t[i],origin_julian))\n",
    "    gregorian_str.append(str(gregorian_dates[i]))\n",
    "\n",
    "print(gregorian_str)"
   ]
  }
 ],
 "metadata": {
  "kernelspec": {
   "display_name": "Python 3",
   "language": "python",
   "name": "python3"
  },
  "language_info": {
   "codemirror_mode": {
    "name": "ipython",
    "version": 3
   },
   "file_extension": ".py",
   "mimetype": "text/x-python",
   "name": "python",
   "nbconvert_exporter": "python",
   "pygments_lexer": "ipython3",
   "version": "3.7.0"
  }
 },
 "nbformat": 4,
 "nbformat_minor": 2
}
